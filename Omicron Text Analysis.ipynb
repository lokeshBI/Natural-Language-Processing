{
 "cells": [
  {
   "cell_type": "code",
   "execution_count": 37,
   "metadata": {},
   "outputs": [],
   "source": [
    "# import Libraries\n",
    "import pandas as pd\n",
    "import numpy as np\n",
    "import matplotlib.pyplot as plt\n",
    "import seaborn as sns\n",
    "sns.set(style = 'darkgrid')\n",
    "import warnings\n",
    "warnings.filterwarnings(\"ignore\")"
   ]
  },
  {
   "cell_type": "code",
   "execution_count": 38,
   "metadata": {},
   "outputs": [
    {
     "data": {
      "text/html": [
       "<div>\n",
       "<style scoped>\n",
       "    .dataframe tbody tr th:only-of-type {\n",
       "        vertical-align: middle;\n",
       "    }\n",
       "\n",
       "    .dataframe tbody tr th {\n",
       "        vertical-align: top;\n",
       "    }\n",
       "\n",
       "    .dataframe thead th {\n",
       "        text-align: right;\n",
       "    }\n",
       "</style>\n",
       "<table border=\"1\" class=\"dataframe\">\n",
       "  <thead>\n",
       "    <tr style=\"text-align: right;\">\n",
       "      <th></th>\n",
       "      <th>id</th>\n",
       "      <th>user_name</th>\n",
       "      <th>user_location</th>\n",
       "      <th>user_description</th>\n",
       "      <th>user_created</th>\n",
       "      <th>user_followers</th>\n",
       "      <th>user_friends</th>\n",
       "      <th>user_favourites</th>\n",
       "      <th>user_verified</th>\n",
       "      <th>date</th>\n",
       "      <th>text</th>\n",
       "      <th>hashtags</th>\n",
       "      <th>source</th>\n",
       "      <th>retweets</th>\n",
       "      <th>favorites</th>\n",
       "      <th>is_retweet</th>\n",
       "    </tr>\n",
       "  </thead>\n",
       "  <tbody>\n",
       "    <tr>\n",
       "      <th>0</th>\n",
       "      <td>1465693385088323591</td>\n",
       "      <td>Abaris</td>\n",
       "      <td>Hants</td>\n",
       "      <td>Would appear on Blogger (did originally),  but...</td>\n",
       "      <td>2009-09-16 14:30:32</td>\n",
       "      <td>2880</td>\n",
       "      <td>4369</td>\n",
       "      <td>26907</td>\n",
       "      <td>False</td>\n",
       "      <td>2021-11-30 14:45:08</td>\n",
       "      <td>@SkyNews \"Told you I'd be Back!\" #OMICRON “Odi...</td>\n",
       "      <td>['OMICRON']</td>\n",
       "      <td>Twitter Web App</td>\n",
       "      <td>0</td>\n",
       "      <td>0</td>\n",
       "      <td>False</td>\n",
       "    </tr>\n",
       "    <tr>\n",
       "      <th>1</th>\n",
       "      <td>1465693062999412746</td>\n",
       "      <td>GFTs </td>\n",
       "      <td>Lalaland</td>\n",
       "      <td>There's a field somewhere beyond all doubt and...</td>\n",
       "      <td>2019-12-28 14:29:13</td>\n",
       "      <td>165</td>\n",
       "      <td>583</td>\n",
       "      <td>21152</td>\n",
       "      <td>False</td>\n",
       "      <td>2021-11-30 14:43:52</td>\n",
       "      <td>Someone told me this in October #Omicron https...</td>\n",
       "      <td>['Omicron']</td>\n",
       "      <td>Twitter for Android</td>\n",
       "      <td>0</td>\n",
       "      <td>0</td>\n",
       "      <td>False</td>\n",
       "    </tr>\n",
       "    <tr>\n",
       "      <th>2</th>\n",
       "      <td>1465690116442279942</td>\n",
       "      <td>Herbie Finkle (Cozy)</td>\n",
       "      <td>NaN</td>\n",
       "      <td>help me find me frens ❤️</td>\n",
       "      <td>2021-07-10 09:40:57</td>\n",
       "      <td>114</td>\n",
       "      <td>393</td>\n",
       "      <td>2339</td>\n",
       "      <td>False</td>\n",
       "      <td>2021-11-30 14:32:09</td>\n",
       "      <td>Glad to see the public schoolkids are wrapping...</td>\n",
       "      <td>['COVID']</td>\n",
       "      <td>Twitter Web App</td>\n",
       "      <td>0</td>\n",
       "      <td>1</td>\n",
       "      <td>False</td>\n",
       "    </tr>\n",
       "  </tbody>\n",
       "</table>\n",
       "</div>"
      ],
      "text/plain": [
       "                    id             user_name user_location  \\\n",
       "0  1465693385088323591                Abaris         Hants   \n",
       "1  1465693062999412746                GFTs       Lalaland   \n",
       "2  1465690116442279942  Herbie Finkle (Cozy)           NaN   \n",
       "\n",
       "                                    user_description         user_created  \\\n",
       "0  Would appear on Blogger (did originally),  but...  2009-09-16 14:30:32   \n",
       "1  There's a field somewhere beyond all doubt and...  2019-12-28 14:29:13   \n",
       "2                           help me find me frens ❤️  2021-07-10 09:40:57   \n",
       "\n",
       "   user_followers  user_friends  user_favourites  user_verified  \\\n",
       "0            2880          4369            26907          False   \n",
       "1             165           583            21152          False   \n",
       "2             114           393             2339          False   \n",
       "\n",
       "                  date                                               text  \\\n",
       "0  2021-11-30 14:45:08  @SkyNews \"Told you I'd be Back!\" #OMICRON “Odi...   \n",
       "1  2021-11-30 14:43:52  Someone told me this in October #Omicron https...   \n",
       "2  2021-11-30 14:32:09  Glad to see the public schoolkids are wrapping...   \n",
       "\n",
       "      hashtags               source  retweets  favorites  is_retweet  \n",
       "0  ['OMICRON']      Twitter Web App         0          0       False  \n",
       "1  ['Omicron']  Twitter for Android         0          0       False  \n",
       "2    ['COVID']      Twitter Web App         0          1       False  "
      ]
     },
     "execution_count": 38,
     "metadata": {},
     "output_type": "execute_result"
    }
   ],
   "source": [
    "omicron_data = pd.read_csv(\"D:\\\\omicron_data\\\\omicron.csv\") \n",
    "omicron_data.head(3)"
   ]
  },
  {
   "cell_type": "code",
   "execution_count": 39,
   "metadata": {},
   "outputs": [
    {
     "name": "stdout",
     "output_type": "stream",
     "text": [
      "<class 'pandas.core.frame.DataFrame'>\n",
      "RangeIndex: 66168 entries, 0 to 66167\n",
      "Data columns (total 16 columns):\n",
      "id                  66168 non-null int64\n",
      "user_name           66168 non-null object\n",
      "user_location       51380 non-null object\n",
      "user_description    62338 non-null object\n",
      "user_created        66168 non-null object\n",
      "user_followers      66168 non-null int64\n",
      "user_friends        66168 non-null int64\n",
      "user_favourites     66168 non-null int64\n",
      "user_verified       66168 non-null bool\n",
      "date                66168 non-null object\n",
      "text                66168 non-null object\n",
      "hashtags            47798 non-null object\n",
      "source              66168 non-null object\n",
      "retweets            66168 non-null int64\n",
      "favorites           66168 non-null int64\n",
      "is_retweet          66168 non-null bool\n",
      "dtypes: bool(2), int64(6), object(8)\n",
      "memory usage: 7.2+ MB\n"
     ]
    }
   ],
   "source": [
    "omicron_data.info()"
   ]
  },
  {
   "cell_type": "code",
   "execution_count": 40,
   "metadata": {},
   "outputs": [
    {
     "data": {
      "text/plain": [
       "Twitter Web App        23063\n",
       "Twitter for Android    15166\n",
       "Twitter for iPhone     13603\n",
       "smcapplication          3198\n",
       "TweetDeck               3005\n",
       "Name: source, dtype: int64"
      ]
     },
     "execution_count": 40,
     "metadata": {},
     "output_type": "execute_result"
    }
   ],
   "source": [
    "omicron_data['source'].value_counts()[:5]"
   ]
  },
  {
   "cell_type": "code",
   "execution_count": 41,
   "metadata": {},
   "outputs": [],
   "source": [
    "source_to_replace = ['Twitter Web App', 'Twitter for Android','Twitter for iPhone','Twitter for iPad','Twitter Media Studio','Twitter Media Studio - LiveCut','Twitter for Mac']\n",
    "omicron_data['source'] = omicron_data['source'].replace(source_to_replace, \"Twitter\")"
   ]
  },
  {
   "cell_type": "code",
   "execution_count": 42,
   "metadata": {},
   "outputs": [
    {
     "data": {
      "text/plain": [
       "Twitter                   54581\n",
       "smcapplication             3198\n",
       "TweetDeck                  3005\n",
       "Hootsuite Inc.             1105\n",
       "Buffer                      547\n",
       "WordPress.com               284\n",
       "dlvr.it                     238\n",
       "Sprout Social               197\n",
       "SocialFlow                  135\n",
       "Hocalwire Social Share      112\n",
       "Name: source, dtype: int64"
      ]
     },
     "execution_count": 42,
     "metadata": {},
     "output_type": "execute_result"
    }
   ],
   "source": [
    "# Top 10 platforms to share comments\n",
    "omicron_data['source'].value_counts()[:10]"
   ]
  },
  {
   "cell_type": "code",
   "execution_count": 43,
   "metadata": {
    "scrolled": true
   },
   "outputs": [
    {
     "data": {
      "text/html": [
       "<div>\n",
       "<style scoped>\n",
       "    .dataframe tbody tr th:only-of-type {\n",
       "        vertical-align: middle;\n",
       "    }\n",
       "\n",
       "    .dataframe tbody tr th {\n",
       "        vertical-align: top;\n",
       "    }\n",
       "\n",
       "    .dataframe thead th {\n",
       "        text-align: right;\n",
       "    }\n",
       "</style>\n",
       "<table border=\"1\" class=\"dataframe\">\n",
       "  <thead>\n",
       "    <tr style=\"text-align: right;\">\n",
       "      <th></th>\n",
       "      <th>source</th>\n",
       "      <th>counts</th>\n",
       "    </tr>\n",
       "  </thead>\n",
       "  <tbody>\n",
       "    <tr>\n",
       "      <th>0</th>\n",
       "      <td>Twitter</td>\n",
       "      <td>54581</td>\n",
       "    </tr>\n",
       "    <tr>\n",
       "      <th>1</th>\n",
       "      <td>smcapplication</td>\n",
       "      <td>3198</td>\n",
       "    </tr>\n",
       "    <tr>\n",
       "      <th>2</th>\n",
       "      <td>TweetDeck</td>\n",
       "      <td>3005</td>\n",
       "    </tr>\n",
       "    <tr>\n",
       "      <th>3</th>\n",
       "      <td>Hootsuite Inc.</td>\n",
       "      <td>1105</td>\n",
       "    </tr>\n",
       "    <tr>\n",
       "      <th>4</th>\n",
       "      <td>Buffer</td>\n",
       "      <td>547</td>\n",
       "    </tr>\n",
       "  </tbody>\n",
       "</table>\n",
       "</div>"
      ],
      "text/plain": [
       "           source  counts\n",
       "0         Twitter   54581\n",
       "1  smcapplication    3198\n",
       "2       TweetDeck    3005\n",
       "3  Hootsuite Inc.    1105\n",
       "4          Buffer     547"
      ]
     },
     "execution_count": 43,
     "metadata": {},
     "output_type": "execute_result"
    }
   ],
   "source": [
    "#convert into a dataframe\n",
    "df = omicron_data['source'].value_counts()[:5].rename_axis('source').reset_index(name = 'counts')\n",
    "df"
   ]
  },
  {
   "cell_type": "code",
   "execution_count": 44,
   "metadata": {},
   "outputs": [
    {
     "data": {
      "text/plain": [
       "Los Angeles, CA                   3418\n",
       "India                             3130\n",
       "New Delhi, India                   992\n",
       "London, England                    677\n",
       "Mumbai, India                      640\n",
       "London                             519\n",
       "United States                      512\n",
       "United Kingdom                     504\n",
       "Canada                             503\n",
       "New Delhi                          481\n",
       "New York, NY                       364\n",
       "Hyderabad, India                   325\n",
       "UK                                 319\n",
       "Mumbai                             304\n",
       "USA                                292\n",
       "Chennai, India                     270\n",
       "Australia                          267\n",
       "England, United Kingdom            238\n",
       "Toronto, Ontario                   229\n",
       "Toronto-Citizen of Canada & US     225\n",
       "Washington, DC                     224\n",
       "Bengaluru, India                   219\n",
       "South Africa                       205\n",
       "London, UK                         193\n",
       "Earth                              180\n",
       "Boston, MA                         175\n",
       "Hyderabad                          172\n",
       "New York                           157\n",
       "Maryland, USA                      150\n",
       "Noida, India                       149\n",
       "                                  ... \n",
       "Mancherial-jaipur, India             1\n",
       "Tufts Medical Center, Boston         1\n",
       "Yerevan, Armenia                     1\n",
       "Winners Circle, USA                  1\n",
       "Socially Distanced in the USA        1\n",
       "Abbottabad                           1\n",
       "Newcastle, South Africa              1\n",
       "Turrbal Land                         1\n",
       "Up The River, NY                     1\n",
       "San Francisco Bay Area/Madrid        1\n",
       "👙                                    1\n",
       "TalkRADIO.tv                         1\n",
       "Caerdydd / Cardiff, Wales            1\n",
       "Беларусь г.Минск                     1\n",
       "London-by-Thames                     1\n",
       "Rawalpindi, Pakistan                 1\n",
       "Take Me Anywhere                     1\n",
       "MIA2ATL Still a NYer at heart        1\n",
       "Leesburg, VA                         1\n",
       "South Fulton, GA                     1\n",
       "Auburn, Washington                   1\n",
       "Camber, England                      1\n",
       "Rajouri, J&K                         1\n",
       "Algarve                              1\n",
       "Shropshire (UK)                      1\n",
       "Follow Me                            1\n",
       "livingston                           1\n",
       "Dubai Marina, Dubai                  1\n",
       "India/ Norway                        1\n",
       "Melbourne, Fla.                      1\n",
       "Name: user_location, Length: 10363, dtype: int64"
      ]
     },
     "execution_count": 44,
     "metadata": {},
     "output_type": "execute_result"
    }
   ],
   "source": [
    "omicron_data['user_location'].value_counts()"
   ]
  },
  {
   "cell_type": "code",
   "execution_count": 45,
   "metadata": {},
   "outputs": [
    {
     "data": {
      "text/html": [
       "<div>\n",
       "<style scoped>\n",
       "    .dataframe tbody tr th:only-of-type {\n",
       "        vertical-align: middle;\n",
       "    }\n",
       "\n",
       "    .dataframe tbody tr th {\n",
       "        vertical-align: top;\n",
       "    }\n",
       "\n",
       "    .dataframe thead th {\n",
       "        text-align: right;\n",
       "    }\n",
       "</style>\n",
       "<table border=\"1\" class=\"dataframe\">\n",
       "  <thead>\n",
       "    <tr style=\"text-align: right;\">\n",
       "      <th></th>\n",
       "      <th>source_country</th>\n",
       "      <th>counts</th>\n",
       "    </tr>\n",
       "  </thead>\n",
       "  <tbody>\n",
       "    <tr>\n",
       "      <th>0</th>\n",
       "      <td>Los Angeles, CA</td>\n",
       "      <td>3418</td>\n",
       "    </tr>\n",
       "    <tr>\n",
       "      <th>1</th>\n",
       "      <td>India</td>\n",
       "      <td>3130</td>\n",
       "    </tr>\n",
       "    <tr>\n",
       "      <th>2</th>\n",
       "      <td>New Delhi, India</td>\n",
       "      <td>992</td>\n",
       "    </tr>\n",
       "    <tr>\n",
       "      <th>3</th>\n",
       "      <td>London, England</td>\n",
       "      <td>677</td>\n",
       "    </tr>\n",
       "    <tr>\n",
       "      <th>4</th>\n",
       "      <td>Mumbai, India</td>\n",
       "      <td>640</td>\n",
       "    </tr>\n",
       "    <tr>\n",
       "      <th>5</th>\n",
       "      <td>London</td>\n",
       "      <td>519</td>\n",
       "    </tr>\n",
       "    <tr>\n",
       "      <th>6</th>\n",
       "      <td>United States</td>\n",
       "      <td>512</td>\n",
       "    </tr>\n",
       "    <tr>\n",
       "      <th>7</th>\n",
       "      <td>United Kingdom</td>\n",
       "      <td>504</td>\n",
       "    </tr>\n",
       "    <tr>\n",
       "      <th>8</th>\n",
       "      <td>Canada</td>\n",
       "      <td>503</td>\n",
       "    </tr>\n",
       "    <tr>\n",
       "      <th>9</th>\n",
       "      <td>New Delhi</td>\n",
       "      <td>481</td>\n",
       "    </tr>\n",
       "  </tbody>\n",
       "</table>\n",
       "</div>"
      ],
      "text/plain": [
       "     source_country  counts\n",
       "0   Los Angeles, CA    3418\n",
       "1             India    3130\n",
       "2  New Delhi, India     992\n",
       "3   London, England     677\n",
       "4     Mumbai, India     640\n",
       "5            London     519\n",
       "6     United States     512\n",
       "7    United Kingdom     504\n",
       "8            Canada     503\n",
       "9         New Delhi     481"
      ]
     },
     "execution_count": 45,
     "metadata": {},
     "output_type": "execute_result"
    }
   ],
   "source": [
    "# top 10 user locations where we got max comments\n",
    "df1 = omicron_data['user_location'].value_counts()[:10].rename_axis('source_country').reset_index(name = 'counts')\n",
    "df1"
   ]
  },
  {
   "cell_type": "markdown",
   "metadata": {},
   "source": [
    "### Need to do country and Hashtag cleaning due to irregular text (not including in this notebook)"
   ]
  },
  {
   "cell_type": "code",
   "execution_count": 46,
   "metadata": {},
   "outputs": [
    {
     "data": {
      "image/png": "[encoded data removed]",
      "text/plain": [
       "<Figure size 1080x360 with 2 Axes>"
      ]
     },
     "metadata": {},
     "output_type": "display_data"
    }
   ],
   "source": [
    "fig, ax = plt.subplots(1, 2, figsize = (15,5))\n",
    "\n",
    "sns.barplot(x = 'source', y = 'counts', data = df, color = 'g',ax = ax[0] )\n",
    "ax[0].set_title('Top 5 platforms where we got max comments', size = 'xx-large')\n",
    "ax[0].set_xticklabels(df['source'],rotation = 90)\n",
    "\n",
    "sns.barplot(x = 'source_country', y = 'counts', data = df1, color = 'b',ax = ax[1] )\n",
    "ax[1].set_title('Top 10 user locations where we got max comments', size = 'xx-large')\n",
    "ax[1].set_xticklabels(df1['source_country'],rotation = 90)\n",
    "\n",
    "plt.tight_layout()\n",
    "plt.show()"
   ]
  },
  {
   "cell_type": "code",
   "execution_count": 47,
   "metadata": {},
   "outputs": [],
   "source": [
    "# convert str date into datetime stamps\n",
    "omicron_data['date'] = pd.to_datetime(omicron_data['user_created'])"
   ]
  },
  {
   "cell_type": "code",
   "execution_count": 48,
   "metadata": {},
   "outputs": [],
   "source": [
    "omicron_data['year'] = omicron_data['date'].dt.year\n",
    "omicron_data['month'] = omicron_data['date'].dt.month\n",
    "omicron_data['day'] = omicron_data['date'].dt.day\n",
    "omicron_data['hour'] = omicron_data['date'].dt.hour"
   ]
  },
  {
   "cell_type": "code",
   "execution_count": 49,
   "metadata": {},
   "outputs": [
    {
     "data": {
      "text/plain": [
       "Index(['id', 'user_name', 'user_location', 'user_description', 'user_created',\n",
       "       'user_followers', 'user_friends', 'user_favourites', 'user_verified',\n",
       "       'date', 'text', 'hashtags', 'source', 'retweets', 'favorites',\n",
       "       'is_retweet', 'year', 'month', 'day', 'hour'],\n",
       "      dtype='object')"
      ]
     },
     "execution_count": 49,
     "metadata": {},
     "output_type": "execute_result"
    }
   ],
   "source": [
    "omicron_data.columns"
   ]
  },
  {
   "cell_type": "code",
   "execution_count": 50,
   "metadata": {},
   "outputs": [
    {
     "data": {
      "text/html": [
       "<div>\n",
       "<style scoped>\n",
       "    .dataframe tbody tr th:only-of-type {\n",
       "        vertical-align: middle;\n",
       "    }\n",
       "\n",
       "    .dataframe tbody tr th {\n",
       "        vertical-align: top;\n",
       "    }\n",
       "\n",
       "    .dataframe thead th {\n",
       "        text-align: right;\n",
       "    }\n",
       "</style>\n",
       "<table border=\"1\" class=\"dataframe\">\n",
       "  <thead>\n",
       "    <tr style=\"text-align: right;\">\n",
       "      <th></th>\n",
       "      <th>user_created</th>\n",
       "      <th>year</th>\n",
       "      <th>month</th>\n",
       "      <th>day</th>\n",
       "      <th>hour</th>\n",
       "    </tr>\n",
       "  </thead>\n",
       "  <tbody>\n",
       "    <tr>\n",
       "      <th>0</th>\n",
       "      <td>2009-09-16 14:30:32</td>\n",
       "      <td>2009</td>\n",
       "      <td>9</td>\n",
       "      <td>16</td>\n",
       "      <td>14</td>\n",
       "    </tr>\n",
       "    <tr>\n",
       "      <th>1</th>\n",
       "      <td>2019-12-28 14:29:13</td>\n",
       "      <td>2019</td>\n",
       "      <td>12</td>\n",
       "      <td>28</td>\n",
       "      <td>14</td>\n",
       "    </tr>\n",
       "    <tr>\n",
       "      <th>2</th>\n",
       "      <td>2021-07-10 09:40:57</td>\n",
       "      <td>2021</td>\n",
       "      <td>7</td>\n",
       "      <td>10</td>\n",
       "      <td>9</td>\n",
       "    </tr>\n",
       "    <tr>\n",
       "      <th>3</th>\n",
       "      <td>2009-05-21 08:32:19</td>\n",
       "      <td>2009</td>\n",
       "      <td>5</td>\n",
       "      <td>21</td>\n",
       "      <td>8</td>\n",
       "    </tr>\n",
       "    <tr>\n",
       "      <th>4</th>\n",
       "      <td>2013-12-31 02:57:32</td>\n",
       "      <td>2013</td>\n",
       "      <td>12</td>\n",
       "      <td>31</td>\n",
       "      <td>2</td>\n",
       "    </tr>\n",
       "    <tr>\n",
       "      <th>5</th>\n",
       "      <td>2013-09-12 19:39:51</td>\n",
       "      <td>2013</td>\n",
       "      <td>9</td>\n",
       "      <td>12</td>\n",
       "      <td>19</td>\n",
       "    </tr>\n",
       "    <tr>\n",
       "      <th>6</th>\n",
       "      <td>2016-09-22 22:54:53</td>\n",
       "      <td>2016</td>\n",
       "      <td>9</td>\n",
       "      <td>22</td>\n",
       "      <td>22</td>\n",
       "    </tr>\n",
       "    <tr>\n",
       "      <th>7</th>\n",
       "      <td>2009-10-10 07:16:32</td>\n",
       "      <td>2009</td>\n",
       "      <td>10</td>\n",
       "      <td>10</td>\n",
       "      <td>7</td>\n",
       "    </tr>\n",
       "    <tr>\n",
       "      <th>8</th>\n",
       "      <td>2021-08-14 07:19:11</td>\n",
       "      <td>2021</td>\n",
       "      <td>8</td>\n",
       "      <td>14</td>\n",
       "      <td>7</td>\n",
       "    </tr>\n",
       "    <tr>\n",
       "      <th>9</th>\n",
       "      <td>2010-11-27 15:34:06</td>\n",
       "      <td>2010</td>\n",
       "      <td>11</td>\n",
       "      <td>27</td>\n",
       "      <td>15</td>\n",
       "    </tr>\n",
       "  </tbody>\n",
       "</table>\n",
       "</div>"
      ],
      "text/plain": [
       "          user_created  year  month  day  hour\n",
       "0  2009-09-16 14:30:32  2009      9   16    14\n",
       "1  2019-12-28 14:29:13  2019     12   28    14\n",
       "2  2021-07-10 09:40:57  2021      7   10     9\n",
       "3  2009-05-21 08:32:19  2009      5   21     8\n",
       "4  2013-12-31 02:57:32  2013     12   31     2\n",
       "5  2013-09-12 19:39:51  2013      9   12    19\n",
       "6  2016-09-22 22:54:53  2016      9   22    22\n",
       "7  2009-10-10 07:16:32  2009     10   10     7\n",
       "8  2021-08-14 07:19:11  2021      8   14     7\n",
       "9  2010-11-27 15:34:06  2010     11   27    15"
      ]
     },
     "execution_count": 50,
     "metadata": {},
     "output_type": "execute_result"
    }
   ],
   "source": [
    "omicron_data[['user_created','year', 'month', 'day', 'hour']].head(10)"
   ]
  },
  {
   "cell_type": "code",
   "execution_count": 51,
   "metadata": {},
   "outputs": [
    {
     "data": {
      "text/plain": [
       "Index(['year', 'month', 'day', 'hour'], dtype='object')"
      ]
     },
     "execution_count": 51,
     "metadata": {},
     "output_type": "execute_result"
    }
   ],
   "source": [
    "omicron_data[['year', 'month', 'day', 'hour']].columns"
   ]
  },
  {
   "cell_type": "code",
   "execution_count": 52,
   "metadata": {},
   "outputs": [
    {
     "data": {
      "image/png": "[encoded data removed]",
      "text/plain": [
       "<Figure size 1080x360 with 2 Axes>"
      ]
     },
     "metadata": {},
     "output_type": "display_data"
    }
   ],
   "source": [
    "fig, ax = plt.subplots(1, 2, figsize = (15,5))\n",
    "\n",
    "omicron_data['year'].value_counts().sort_index(ascending = True).plot(ax = ax[0], kind = 'line')\n",
    "ax[0].set_title('Trend of tweets over each year', size = 'xx-large')\n",
    "# ax[0].set_xticklabels(df['source'],rotation = 90)\n",
    "\n",
    "omicron_data['month'].value_counts().sort_index(ascending = True).plot(ax = ax[1], kind = 'line')\n",
    "ax[1].set_title('Trend of tweets over each month', size = 'xx-large')\n",
    "# ax[1].set_xticklabels(df1['source_country'],rotation = 90)\n",
    "\n",
    "plt.tight_layout()\n",
    "plt.show()"
   ]
  },
  {
   "cell_type": "code",
   "execution_count": 53,
   "metadata": {},
   "outputs": [
    {
     "data": {
      "image/png": "[encoded data removed]",
      "text/plain": [
       "<Figure size 1080x360 with 2 Axes>"
      ]
     },
     "metadata": {},
     "output_type": "display_data"
    }
   ],
   "source": [
    "fig, ax = plt.subplots(1, 2, figsize = (15,5))\n",
    "\n",
    "omicron_data['day'].value_counts().sort_index(ascending = True).plot(ax = ax[0], kind = 'line')\n",
    "ax[0].set_title('Trend of tweets over each day', size = 'xx-large')\n",
    "\n",
    "omicron_data['hour'].value_counts().sort_index(ascending = True).plot(ax = ax[1], kind = 'line')\n",
    "ax[1].set_title('Trend of tweets over each hour', size = 'xx-large')\n",
    "\n",
    "\n",
    "plt.tight_layout()\n",
    "plt.show()"
   ]
  },
  {
   "cell_type": "code",
   "execution_count": 54,
   "metadata": {},
   "outputs": [],
   "source": [
    "omicron_data['hashtags'] = omicron_data['hashtags'].str.strip('[]').str.replace(\"'\", '')"
   ]
  },
  {
   "cell_type": "code",
   "execution_count": 55,
   "metadata": {},
   "outputs": [
    {
     "data": {
      "text/plain": [
       "'Omicron'"
      ]
     },
     "execution_count": 55,
     "metadata": {},
     "output_type": "execute_result"
    }
   ],
   "source": [
    "omicron_data['hashtags'].mode()[0]"
   ]
  },
  {
   "cell_type": "code",
   "execution_count": 56,
   "metadata": {},
   "outputs": [],
   "source": [
    "omicron_data['hashtags'] = omicron_data['hashtags'].fillna(omicron_data['hashtags'].mode()[0])"
   ]
  },
  {
   "cell_type": "code",
   "execution_count": 57,
   "metadata": {},
   "outputs": [],
   "source": [
    "omicron_data['hashtags'] = omicron_data['hashtags'].apply(lambda x : x.split(',')[0])"
   ]
  },
  {
   "cell_type": "code",
   "execution_count": 58,
   "metadata": {},
   "outputs": [
    {
     "data": {
      "text/plain": [
       "Omicron             38462\n",
       "omicron              3760\n",
       "COVID19              2799\n",
       "COVID                 466\n",
       "Covid19               452\n",
       "Covid                 411\n",
       "OmicronVariant        393\n",
       "covid                 291\n",
       "BREAKING              277\n",
       "covid19               273\n",
       "OmicronVarient        266\n",
       "OMICRON               262\n",
       "India                 235\n",
       "coronavirus           218\n",
       "BlackLivesMatter      199\n",
       "UK                    187\n",
       "Delta                 174\n",
       "SouthAfrica           174\n",
       "HDFCLIFE              160\n",
       "Pfizer                147\n",
       "Name: hashtags, dtype: int64"
      ]
     },
     "execution_count": 58,
     "metadata": {},
     "output_type": "execute_result"
    }
   ],
   "source": [
    "omicron_data['hashtags'].value_counts()[:20]"
   ]
  },
  {
   "cell_type": "markdown",
   "metadata": {},
   "source": [
    "### Our objective is to clean Text data and get insights & sentiment analysis"
   ]
  },
  {
   "cell_type": "code",
   "execution_count": 59,
   "metadata": {},
   "outputs": [
    {
     "data": {
      "text/plain": [
       "0    @SkyNews \"Told you I'd be Back!\" #OMICRON “Odi...\n",
       "1    Someone told me this in October #Omicron https...\n",
       "2    Glad to see the public schoolkids are wrapping...\n",
       "3    #Automation systems have become increasingly c...\n",
       "4    🟢 If u think Omicron is a FUD, you LONG📈\\n🔴 If...\n",
       "Name: text, dtype: object"
      ]
     },
     "execution_count": 59,
     "metadata": {},
     "output_type": "execute_result"
    }
   ],
   "source": [
    "text_data = omicron_data['text']\n",
    "text_data.head()"
   ]
  },
  {
   "cell_type": "code",
   "execution_count": 60,
   "metadata": {},
   "outputs": [
    {
     "data": {
      "text/html": [
       "<div>\n",
       "<style scoped>\n",
       "    .dataframe tbody tr th:only-of-type {\n",
       "        vertical-align: middle;\n",
       "    }\n",
       "\n",
       "    .dataframe tbody tr th {\n",
       "        vertical-align: top;\n",
       "    }\n",
       "\n",
       "    .dataframe thead th {\n",
       "        text-align: right;\n",
       "    }\n",
       "</style>\n",
       "<table border=\"1\" class=\"dataframe\">\n",
       "  <thead>\n",
       "    <tr style=\"text-align: right;\">\n",
       "      <th></th>\n",
       "      <th>index</th>\n",
       "      <th>text</th>\n",
       "    </tr>\n",
       "  </thead>\n",
       "  <tbody>\n",
       "    <tr>\n",
       "      <th>0</th>\n",
       "      <td>0</td>\n",
       "      <td>@SkyNews \"Told you I'd be Back!\" #OMICRON “Odi...</td>\n",
       "    </tr>\n",
       "    <tr>\n",
       "      <th>1</th>\n",
       "      <td>1</td>\n",
       "      <td>Someone told me this in October #Omicron https...</td>\n",
       "    </tr>\n",
       "    <tr>\n",
       "      <th>2</th>\n",
       "      <td>2</td>\n",
       "      <td>Glad to see the public schoolkids are wrapping...</td>\n",
       "    </tr>\n",
       "    <tr>\n",
       "      <th>3</th>\n",
       "      <td>3</td>\n",
       "      <td>#Automation systems have become increasingly c...</td>\n",
       "    </tr>\n",
       "    <tr>\n",
       "      <th>4</th>\n",
       "      <td>4</td>\n",
       "      <td>🟢 If u think Omicron is a FUD, you LONG📈\\n🔴 If...</td>\n",
       "    </tr>\n",
       "  </tbody>\n",
       "</table>\n",
       "</div>"
      ],
      "text/plain": [
       "   index                                               text\n",
       "0      0  @SkyNews \"Told you I'd be Back!\" #OMICRON “Odi...\n",
       "1      1  Someone told me this in October #Omicron https...\n",
       "2      2  Glad to see the public schoolkids are wrapping...\n",
       "3      3  #Automation systems have become increasingly c...\n",
       "4      4  🟢 If u think Omicron is a FUD, you LONG📈\\n🔴 If..."
      ]
     },
     "execution_count": 60,
     "metadata": {},
     "output_type": "execute_result"
    }
   ],
   "source": [
    "text_data = text_data.reset_index()\n",
    "text_data.head()"
   ]
  },
  {
   "cell_type": "code",
   "execution_count": null,
   "metadata": {},
   "outputs": [],
   "source": []
  },
  {
   "cell_type": "code",
   "execution_count": null,
   "metadata": {},
   "outputs": [],
   "source": []
  },
  {
   "cell_type": "code",
   "execution_count": null,
   "metadata": {},
   "outputs": [],
   "source": []
  },
  {
   "cell_type": "code",
   "execution_count": null,
   "metadata": {},
   "outputs": [],
   "source": []
  }
 ],
 "metadata": {
  "kernelspec": {
   "display_name": "Python 3",
   "language": "python",
   "name": "python3"
  },
  "language_info": {
   "codemirror_mode": {
    "name": "ipython",
    "version": 3
   },
   "file_extension": ".py",
   "mimetype": "text/x-python",
   "name": "python",
   "nbconvert_exporter": "python",
   "pygments_lexer": "ipython3",
   "version": "3.7.3"
  }
 },
 "nbformat": 4,
 "nbformat_minor": 2
}

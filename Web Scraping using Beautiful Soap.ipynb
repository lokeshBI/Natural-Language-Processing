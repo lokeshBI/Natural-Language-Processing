{
 "cells": [
  {
   "cell_type": "code",
   "execution_count": 20,
   "metadata": {},
   "outputs": [],
   "source": [
    "import pandas as pd\n",
    "import requests\n",
    "from bs4 import BeautifulSoup"
   ]
  },
  {
   "cell_type": "code",
   "execution_count": 24,
   "metadata": {},
   "outputs": [
    {
     "name": "stdout",
     "output_type": "stream",
     "text": [
      "George Washington\n",
      "John Adams\n",
      "Thomas Jefferson\n",
      "James Madison\n",
      "James Monroe\n",
      "John Quincy Adams\n",
      "Andrew Jackson\n",
      "Martin Van Buren\n",
      "William Henry Harrison\n",
      "John Tyler\n",
      "James K. Polk\n",
      "Zachary Taylor\n",
      "Millard Fillmore\n",
      "Franklin Pierce\n",
      "James Buchanan\n",
      "Abraham Lincoln\n",
      "Andrew Johnson\n",
      "Ulysses S. Grant\n",
      "Rutherford B. Hayes\n",
      "James A. Garfield\n",
      "Chester A. Arthur\n",
      "Grover Cleveland\n",
      "Benjamin Harrison\n",
      "Grover Cleveland\n",
      "William McKinley\n",
      "Theodore Roosevelt\n",
      "William Howard Taft\n",
      "Woodrow Wilson\n",
      "Warren G. Harding\n",
      "Calvin Coolidge\n",
      "Herbert Hoover\n",
      "Franklin D. Roosevelt\n",
      "Harry S. Truman\n",
      "Dwight D. Eisenhower\n",
      "John F. Kennedy\n",
      "Lyndon B. Johnson\n",
      "Richard Nixon\n",
      "Gerald Ford\n",
      "Jimmy Carter\n",
      "Ronald Reagan\n",
      "George H. W. Bush\n",
      "Bill Clinton\n",
      "George W. Bush\n",
      "Barack Obama\n",
      "Donald Trump\n"
     ]
    }
   ],
   "source": [
    "url = 'https://en.wikipedia.org/wiki/List_of_presidents_of_the_United_States'\n",
    "page = requests.get(url)\n",
    "soup = BeautifulSoup(page.content, 'html.parser')\n",
    "table = soup.find('table', class_ = 'wikitable')\n",
    "\n",
    "for link in table.find_all('b'):\n",
    "    name = link.find('a')\n",
    "    if name == None:\n",
    "        continue\n",
    "    print(name.get_text('title'))    "
   ]
  },
  {
   "cell_type": "code",
   "execution_count": null,
   "metadata": {},
   "outputs": [],
   "source": []
  },
  {
   "cell_type": "code",
   "execution_count": null,
   "metadata": {},
   "outputs": [],
   "source": []
  }
 ],
 "metadata": {
  "kernelspec": {
   "display_name": "Python 3",
   "language": "python",
   "name": "python3"
  },
  "language_info": {
   "codemirror_mode": {
    "name": "ipython",
    "version": 3
   },
   "file_extension": ".py",
   "mimetype": "text/x-python",
   "name": "python",
   "nbconvert_exporter": "python",
   "pygments_lexer": "ipython3",
   "version": "3.7.6"
  }
 },
 "nbformat": 4,
 "nbformat_minor": 4
}
